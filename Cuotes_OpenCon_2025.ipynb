{
  "cells": [
    {
      "cell_type": "markdown",
      "metadata": {
        "id": "view-in-github",
        "colab_type": "text"
      },
      "source": [
        "<a href=\"https://colab.research.google.com/github/Aterg264/Aterg264/blob/main/Cuotes_OpenCon_2025.ipynb\" target=\"_parent\"><img src=\"https://colab.research.google.com/assets/colab-badge.svg\" alt=\"Open In Colab\"/></a>"
      ]
    },
    {
      "cell_type": "markdown",
      "metadata": {
        "id": "ztNsb6nKUrsp"
      },
      "source": [
        "[Documentació](https://docs.google.com/document/d/1bG0x6nOVrm2-CRQS-PMozXm3yTAaRPpYMzMkbyemt0w/edit?tab=t.0)\n",
        "\n"
      ]
    },
    {
      "cell_type": "code",
      "execution_count": 85,
      "metadata": {
        "id": "jijEH4oZUesR"
      },
      "outputs": [],
      "source": [
        "import pandas as pd\n",
        "from google.colab import files"
      ]
    },
    {
      "cell_type": "markdown",
      "metadata": {
        "id": "PtMmKDbUXPRj"
      },
      "source": [
        "Llegir l'excel amb les dades\n",
        "Gènere:  Dona/Mujer, Home/Hombre, No-binari/No binario, Altre/Otro"
      ]
    },
    {
      "cell_type": "code",
      "execution_count": 86,
      "metadata": {
        "colab": {
          "base_uri": "https://localhost:8080/",
          "height": 73
        },
        "id": "HAgUwMjgNIFB",
        "outputId": "9ad57b0d-c5aa-480b-f074-0c91d7c951d8"
      },
      "outputs": [
        {
          "output_type": "display_data",
          "data": {
            "text/plain": [
              "<IPython.core.display.HTML object>"
            ],
            "text/html": [
              "\n",
              "     <input type=\"file\" id=\"files-77410841-2e4d-4b76-a8ca-099543361516\" name=\"files[]\" multiple disabled\n",
              "        style=\"border:none\" />\n",
              "     <output id=\"result-77410841-2e4d-4b76-a8ca-099543361516\">\n",
              "      Upload widget is only available when the cell has been executed in the\n",
              "      current browser session. Please rerun this cell to enable.\n",
              "      </output>\n",
              "      <script>// Copyright 2017 Google LLC\n",
              "//\n",
              "// Licensed under the Apache License, Version 2.0 (the \"License\");\n",
              "// you may not use this file except in compliance with the License.\n",
              "// You may obtain a copy of the License at\n",
              "//\n",
              "//      http://www.apache.org/licenses/LICENSE-2.0\n",
              "//\n",
              "// Unless required by applicable law or agreed to in writing, software\n",
              "// distributed under the License is distributed on an \"AS IS\" BASIS,\n",
              "// WITHOUT WARRANTIES OR CONDITIONS OF ANY KIND, either express or implied.\n",
              "// See the License for the specific language governing permissions and\n",
              "// limitations under the License.\n",
              "\n",
              "/**\n",
              " * @fileoverview Helpers for google.colab Python module.\n",
              " */\n",
              "(function(scope) {\n",
              "function span(text, styleAttributes = {}) {\n",
              "  const element = document.createElement('span');\n",
              "  element.textContent = text;\n",
              "  for (const key of Object.keys(styleAttributes)) {\n",
              "    element.style[key] = styleAttributes[key];\n",
              "  }\n",
              "  return element;\n",
              "}\n",
              "\n",
              "// Max number of bytes which will be uploaded at a time.\n",
              "const MAX_PAYLOAD_SIZE = 100 * 1024;\n",
              "\n",
              "function _uploadFiles(inputId, outputId) {\n",
              "  const steps = uploadFilesStep(inputId, outputId);\n",
              "  const outputElement = document.getElementById(outputId);\n",
              "  // Cache steps on the outputElement to make it available for the next call\n",
              "  // to uploadFilesContinue from Python.\n",
              "  outputElement.steps = steps;\n",
              "\n",
              "  return _uploadFilesContinue(outputId);\n",
              "}\n",
              "\n",
              "// This is roughly an async generator (not supported in the browser yet),\n",
              "// where there are multiple asynchronous steps and the Python side is going\n",
              "// to poll for completion of each step.\n",
              "// This uses a Promise to block the python side on completion of each step,\n",
              "// then passes the result of the previous step as the input to the next step.\n",
              "function _uploadFilesContinue(outputId) {\n",
              "  const outputElement = document.getElementById(outputId);\n",
              "  const steps = outputElement.steps;\n",
              "\n",
              "  const next = steps.next(outputElement.lastPromiseValue);\n",
              "  return Promise.resolve(next.value.promise).then((value) => {\n",
              "    // Cache the last promise value to make it available to the next\n",
              "    // step of the generator.\n",
              "    outputElement.lastPromiseValue = value;\n",
              "    return next.value.response;\n",
              "  });\n",
              "}\n",
              "\n",
              "/**\n",
              " * Generator function which is called between each async step of the upload\n",
              " * process.\n",
              " * @param {string} inputId Element ID of the input file picker element.\n",
              " * @param {string} outputId Element ID of the output display.\n",
              " * @return {!Iterable<!Object>} Iterable of next steps.\n",
              " */\n",
              "function* uploadFilesStep(inputId, outputId) {\n",
              "  const inputElement = document.getElementById(inputId);\n",
              "  inputElement.disabled = false;\n",
              "\n",
              "  const outputElement = document.getElementById(outputId);\n",
              "  outputElement.innerHTML = '';\n",
              "\n",
              "  const pickedPromise = new Promise((resolve) => {\n",
              "    inputElement.addEventListener('change', (e) => {\n",
              "      resolve(e.target.files);\n",
              "    });\n",
              "  });\n",
              "\n",
              "  const cancel = document.createElement('button');\n",
              "  inputElement.parentElement.appendChild(cancel);\n",
              "  cancel.textContent = 'Cancel upload';\n",
              "  const cancelPromise = new Promise((resolve) => {\n",
              "    cancel.onclick = () => {\n",
              "      resolve(null);\n",
              "    };\n",
              "  });\n",
              "\n",
              "  // Wait for the user to pick the files.\n",
              "  const files = yield {\n",
              "    promise: Promise.race([pickedPromise, cancelPromise]),\n",
              "    response: {\n",
              "      action: 'starting',\n",
              "    }\n",
              "  };\n",
              "\n",
              "  cancel.remove();\n",
              "\n",
              "  // Disable the input element since further picks are not allowed.\n",
              "  inputElement.disabled = true;\n",
              "\n",
              "  if (!files) {\n",
              "    return {\n",
              "      response: {\n",
              "        action: 'complete',\n",
              "      }\n",
              "    };\n",
              "  }\n",
              "\n",
              "  for (const file of files) {\n",
              "    const li = document.createElement('li');\n",
              "    li.append(span(file.name, {fontWeight: 'bold'}));\n",
              "    li.append(span(\n",
              "        `(${file.type || 'n/a'}) - ${file.size} bytes, ` +\n",
              "        `last modified: ${\n",
              "            file.lastModifiedDate ? file.lastModifiedDate.toLocaleDateString() :\n",
              "                                    'n/a'} - `));\n",
              "    const percent = span('0% done');\n",
              "    li.appendChild(percent);\n",
              "\n",
              "    outputElement.appendChild(li);\n",
              "\n",
              "    const fileDataPromise = new Promise((resolve) => {\n",
              "      const reader = new FileReader();\n",
              "      reader.onload = (e) => {\n",
              "        resolve(e.target.result);\n",
              "      };\n",
              "      reader.readAsArrayBuffer(file);\n",
              "    });\n",
              "    // Wait for the data to be ready.\n",
              "    let fileData = yield {\n",
              "      promise: fileDataPromise,\n",
              "      response: {\n",
              "        action: 'continue',\n",
              "      }\n",
              "    };\n",
              "\n",
              "    // Use a chunked sending to avoid message size limits. See b/62115660.\n",
              "    let position = 0;\n",
              "    do {\n",
              "      const length = Math.min(fileData.byteLength - position, MAX_PAYLOAD_SIZE);\n",
              "      const chunk = new Uint8Array(fileData, position, length);\n",
              "      position += length;\n",
              "\n",
              "      const base64 = btoa(String.fromCharCode.apply(null, chunk));\n",
              "      yield {\n",
              "        response: {\n",
              "          action: 'append',\n",
              "          file: file.name,\n",
              "          data: base64,\n",
              "        },\n",
              "      };\n",
              "\n",
              "      let percentDone = fileData.byteLength === 0 ?\n",
              "          100 :\n",
              "          Math.round((position / fileData.byteLength) * 100);\n",
              "      percent.textContent = `${percentDone}% done`;\n",
              "\n",
              "    } while (position < fileData.byteLength);\n",
              "  }\n",
              "\n",
              "  // All done.\n",
              "  yield {\n",
              "    response: {\n",
              "      action: 'complete',\n",
              "    }\n",
              "  };\n",
              "}\n",
              "\n",
              "scope.google = scope.google || {};\n",
              "scope.google.colab = scope.google.colab || {};\n",
              "scope.google.colab._files = {\n",
              "  _uploadFiles,\n",
              "  _uploadFilesContinue,\n",
              "};\n",
              "})(self);\n",
              "</script> "
            ]
          },
          "metadata": {}
        },
        {
          "output_type": "stream",
          "name": "stdout",
          "text": [
            "Saving test_open.csv to test_open (4).csv\n"
          ]
        }
      ],
      "source": [
        "uploaded = files.upload()"
      ]
    },
    {
      "cell_type": "code",
      "source": [
        "respostes_totals = pd.read_csv(\"test_open.csv\")\n",
        "respostes_copia = respostes_totals\n",
        "# print(respostes_totals.info())"
      ],
      "metadata": {
        "id": "U_LeWav-iuJp"
      },
      "execution_count": 87,
      "outputs": []
    },
    {
      "cell_type": "code",
      "execution_count": 88,
      "metadata": {
        "colab": {
          "base_uri": "https://localhost:8080/"
        },
        "id": "sPlE7OCkPVto",
        "outputId": "44a1d207-ccfd-45fd-ceea-a19f018eefd4"
      },
      "outputs": [
        {
          "output_type": "stream",
          "name": "stdout",
          "text": [
            "53\n"
          ]
        }
      ],
      "source": [
        "columnes = [\"id\",\"Nomsentit\", \"Pronoms\", \"Pronoms1\", \"Nomregistral\", \"Poblacio\",\n",
        "            \"Paisvalencia\", \"Edat\", \"Correo\", \"Telf\", \"Eixos\", \"Titoleixos\",\n",
        "            \"Nomono\", \"Nomono1\", \"Genere\", \"Genere1\", \"Descgenere\",\n",
        "            \"Genere Assignat\",\"Genere Assignat1\", \"Hetero\", \"Hetero1\", \"Blanca\",\n",
        "            \"Blanca1\", \"Procedencia\", \"Procedencia1\", \"Descgordo\", \"Gordofobia\",\n",
        "            \"Gordofobia1\", \"Diska\", \"Diska1\", \"Descneuro\",\n",
        "            \"Neurodiver\", \"Neurodiver1\", \"Llengua\", \"Descllengua\", \"Llengua1\",\n",
        "            \"Edadisme\", \"Edadisme1\", \"Pobressa\", \"Pobressa1\", \"Descviogen\",\n",
        "            \"Viogen\", \"Viogen1\", \"Treballsex\", \"Treballsex1\", \"Enfcronica\",\n",
        "            \"Enfcronica1\", \"Rural\", \"Rural1\", \"Responsable\", \"Responsable1\",\n",
        "            \"Altres\", \"Altresopresions\"]\n",
        "print(len(columnes))"
      ]
    },
    {
      "cell_type": "code",
      "execution_count": 89,
      "metadata": {
        "id": "r1bzIuYQPHqP"
      },
      "outputs": [],
      "source": [
        "respostes_totals.columns = columnes\n",
        "# print(respostes_totals.head())"
      ]
    },
    {
      "cell_type": "markdown",
      "metadata": {
        "id": "xzMgKvm0bZ0E"
      },
      "source": [
        "Crear una nova columna per la macrocuota de gènere"
      ]
    },
    {
      "cell_type": "code",
      "execution_count": 90,
      "metadata": {
        "id": "GoTHxwGIOYU5"
      },
      "outputs": [],
      "source": [
        "respostes_totals['Macrogenere'] = respostes_totals.apply(\n",
        "    lambda row: 'No' if (row['Genere'] == 'Home' or row['Genere'] == 'Hombre')\n",
        "    and (row['Genere Assignat'] == 'Sí' or row['Genere Assignat'] == 'Si')\n",
        "    else 'Si', axis=1)\n",
        "\n",
        "respostes_totals['Xenofobia'] = respostes_totals.apply(\n",
        "    lambda row: 'Si' if (row['Blanca'] == 'No')\n",
        "    or (row['Procedencia'] == 'Sí' or row['Procedencia'] == 'Si')\n",
        "    else 'Si', axis=1)"
      ]
    },
    {
      "cell_type": "code",
      "execution_count": 91,
      "metadata": {
        "id": "LxvJwTR1urE2"
      },
      "outputs": [],
      "source": [
        "respostes_totals['Hetero'] = respostes_totals.apply(\n",
        "    lambda row: 'No' if (row['Hetero'] == 'Sí' or row['Hetero'] == 'Si')\n",
        "    else 'Si', axis=1)\n",
        "\n",
        "respostes_totals['Genere Assignat'] = respostes_totals.apply(\n",
        "    lambda row: 'No' if (row['Genere Assignat'] == 'Sí' or row['Genere Assignat'] == 'Si')\n",
        "    else 'Si', axis=1)"
      ]
    },
    {
      "cell_type": "markdown",
      "metadata": {
        "id": "h0_1QU8hizVF"
      },
      "source": [
        "### Calcular cuotes\n",
        "\n"
      ]
    },
    {
      "cell_type": "markdown",
      "metadata": {
        "id": "L5n8DOhgqcKH"
      },
      "source": [
        "**Macrocuotes**\n"
      ]
    },
    {
      "cell_type": "code",
      "execution_count": 92,
      "metadata": {
        "id": "EBfjCIKMqdwO"
      },
      "outputs": [],
      "source": [
        "resp_macro = respostes_totals[[\"Paisvalencia\", 'Macrogenere']]\n",
        "resp_micromacro = respostes_totals[[\n",
        "    \"id\", \"Paisvalencia\", 'Macrogenere', \"Genere Assignat\", \"Hetero\",\n",
        "    \"Xenofobia\", \"Gordofobia\", \"Diska\", \"Neurodiver\", \"Llengua\",\n",
        "    \"Edadisme\", \"Pobressa\", \"Viogen\", \"Treballsex\", \"Enfcronica\", \"Rural\",\n",
        "    \"Responsable\", \"Altres\"]]"
      ]
    },
    {
      "cell_type": "markdown",
      "metadata": {
        "id": "v__tof8Tnomp"
      },
      "source": [
        "**Minicuotes**\n",
        "\n",
        "Modificar el dataser perque tots els \"Si\" siguin sense accent i ordenar les columnes per número de Si. Després sumar els \"Si\" per ordenar les cuotes de menys a més."
      ]
    },
    {
      "cell_type": "code",
      "execution_count": 93,
      "metadata": {
        "colab": {
          "base_uri": "https://localhost:8080/"
        },
        "id": "1WXgF4oxoHHB",
        "outputId": "80fbaf23-478f-4fbf-ce32-9e8dc01cf6b0"
      },
      "outputs": [
        {
          "output_type": "stream",
          "name": "stdout",
          "text": [
            "['Diska', 'Treballsex', 'Responsable', 'Altres', 'Genere Assignat', 'Edadisme', 'Pobressa', 'Rural', 'Enfcronica', 'Gordofobia', 'Viogen', 'Neurodiver', 'Hetero', 'Llengua', 'Xenofobia']\n"
          ]
        }
      ],
      "source": [
        "col_mini = [\n",
        "    \"Genere Assignat\", \"Hetero\", \"Xenofobia\", \"Gordofobia\", \"Diska\",\n",
        "    \"Neurodiver\", \"Llengua\", \"Edadisme\", \"Pobressa\", \"Viogen\", \"Treballsex\",\n",
        "    \"Enfcronica\", \"Rural\", \"Responsable\",\"Altres\"]\n",
        "resp_mini = respostes_totals[col_mini]\n",
        "\n",
        "resp_macro = resp_macro.map(lambda x: 'Si' if x == 'Sí' else x)\n",
        "resp_mini = resp_mini.map(lambda x: 'Si' if x == 'Sí' else x)\n",
        "resp_micromacro = resp_micromacro.map(lambda x: 'Si' if x == 'Sí' else x)\n",
        "\n",
        "\n",
        "ordre_cuotes = resp_mini.apply(lambda x: (x == 'Si').sum(), axis=0)\n",
        "ordre_cuotes = ordre_cuotes.sort_values(ascending=True).index.tolist()\n",
        "\n",
        "print(ordre_cuotes)"
      ]
    },
    {
      "cell_type": "markdown",
      "metadata": {
        "id": "tq1oPMS5zwzX"
      },
      "source": [
        "**Càlculs**"
      ]
    },
    {
      "cell_type": "markdown",
      "metadata": {
        "id": "O0VOJxKyzToT"
      },
      "source": [
        "En la cuota hi ha menys o igual al nombre de persones que poden entrar per cada cuota."
      ]
    },
    {
      "cell_type": "code",
      "execution_count": 94,
      "metadata": {
        "colab": {
          "base_uri": "https://localhost:8080/"
        },
        "id": "yukPTYaLiydX",
        "outputId": "9e9761e6-c4ab-487d-efa2-9c52a3ec9617"
      },
      "outputs": [
        {
          "output_type": "stream",
          "name": "stdout",
          "text": [
            "Diska\n",
            "['M', 'UB', 'YC']\n",
            "Minicuota: Treballsex, Macrocuota: Païs valencià\n",
            "['UC', 'IC']\n",
            "Minicuota: Treballsex, Macrocuota: No mixte\n",
            "['LC', 'LB']\n",
            "Minicuota: Treballsex orga\n",
            "[]\n",
            "Minicuota: Treballsex total\n",
            "['KB', 'Z']\n",
            "Minicuota: Responsable, Macrocuota: Païs valencià\n",
            "['HC', 'GD']\n",
            "Minicuota: Responsable, Macrocuota: No mixte\n",
            "['FD', 'IB']\n",
            "Minicuota: Responsable orga\n",
            "[]\n",
            "Minicuota: Responsable total\n",
            "['DD', 'DC']\n",
            "Minicuota: Altres, Macrocuota: Païs valencià\n",
            "['HD', 'XB']\n",
            "Minicuota: Altres, Macrocuota: No mixte\n",
            "['OC', 'AA']\n",
            "Minicuota: Altres orga\n",
            "[]\n",
            "Minicuota: Altres total\n",
            "['TB']\n",
            "Minicuota: Genere Assignat, Macrocuota: Païs valencià\n",
            "['KC', 'TC']\n",
            "Minicuota: Genere Assignat, Macrocuota: No mixte\n",
            "['BD', '6']\n",
            "Minicuota: Genere Assignat orga\n",
            "['5']\n",
            "Minicuota: Genere Assignat total\n",
            "['PA']\n",
            "Minicuota: Edadisme, Macrocuota: Païs valencià\n",
            "['BA', 'RC']\n",
            "Minicuota: Edadisme, Macrocuota: No mixte\n",
            "['EC', 'R']\n",
            "Minicuota: Edadisme orga\n",
            "['2', '7']\n",
            "[]\n",
            "Minicuota: Pobressa, Macrocuota: Païs valencià\n",
            "['WC', 'AC']\n",
            "Minicuota: Pobressa, Macrocuota: No mixte\n",
            "['U', 'EA']\n",
            "Minicuota: Pobressa orga\n",
            "[]\n",
            "Minicuota: Pobressa total\n",
            "['YA', 'K']\n",
            "Minicuota: Rural, Macrocuota: Païs valencià\n",
            "['HB', 'N']\n",
            "Minicuota: Rural, Macrocuota: No mixte\n",
            "['NC', 'SB']\n",
            "Minicuota: Rural orga\n",
            "['8', '3']\n",
            "[]\n",
            "Minicuota: Enfcronica, Macrocuota: Païs valencià\n",
            "['MB', 'CB']\n",
            "Minicuota: Enfcronica, Macrocuota: No mixte\n",
            "['TA', 'DB']\n",
            "Minicuota: Enfcronica orga\n",
            "[]\n",
            "Minicuota: Enfcronica total\n",
            "['FC', 'CC']\n",
            "Minicuota: Gordofobia, Macrocuota: Païs valencià\n",
            "['CA', 'SA']\n",
            "Minicuota: Gordofobia, Macrocuota: No mixte\n",
            "['BB', 'ID']\n",
            "Minicuota: Gordofobia orga\n",
            "['1']\n",
            "Minicuota: Gordofobia total\n",
            "['GC']\n",
            "Minicuota: Viogen, Macrocuota: Païs valencià\n",
            "['VA', 'QB']\n",
            "Minicuota: Viogen, Macrocuota: No mixte\n",
            "['SC', 'ND']\n",
            "Minicuota: Viogen orga\n",
            "['4']\n",
            "Minicuota: Viogen total\n",
            "['Y']\n",
            "Minicuota: Neurodiver, Macrocuota: Païs valencià\n",
            "['UA', 'ZB']\n",
            "Minicuota: Neurodiver, Macrocuota: No mixte\n",
            "['ZA', 'GB']\n",
            "Minicuota: Neurodiver orga\n",
            "[]\n",
            "Minicuota: Neurodiver total\n",
            "['PB', 'JD']\n",
            "Minicuota: Hetero, Macrocuota: Païs valencià\n",
            "['LA', 'GA']\n",
            "Minicuota: Hetero, Macrocuota: No mixte\n",
            "['KD', nan]\n",
            "Minicuota: Hetero orga\n",
            "[]\n",
            "Minicuota: Hetero total\n",
            "['RB', 'DA']\n",
            "Minicuota: Llengua, Macrocuota: Païs valencià\n",
            "['PC', 'VB']\n",
            "Minicuota: Llengua, Macrocuota: No mixte\n",
            "['CD', 'LD']\n",
            "Minicuota: Llengua orga\n",
            "[]\n",
            "Minicuota: Llengua total\n",
            "['W', 'IA']\n",
            "Minicuota: Xenofobia, Macrocuota: Païs valencià\n",
            "['L', 'HA']\n",
            "Minicuota: Xenofobia, Macrocuota: No mixte\n",
            "['V', 'QA']\n",
            "Minicuota: Xenofobia orga\n",
            "[]\n",
            "Minicuota: Xenofobia total\n",
            "['ED', 'XC']\n"
          ]
        }
      ],
      "source": [
        "# from re import L\n",
        "# Modificar aquestes dades si es modifica el total\n",
        "total = 94\n",
        "\n",
        "total_cuota = 6\n",
        "nomixte = 2\n",
        "pais_valencia = 2\n",
        "altres = 2\n",
        "\n",
        "resp_cuotes_open = resp_micromacro.copy()\n",
        "resp_cuotes_atzar = resp_micromacro.copy()\n",
        "resp_cuotes_open[\"Open\"] = \"No\"\n",
        "\n",
        "for cuota in ordre_cuotes:\n",
        "\n",
        "  # Cuotes en les que hi ha menys de 6 persones\n",
        "  if ((resp_cuotes_atzar[cuota] == 'Si').sum()) <= 6:\n",
        "\n",
        "    print(cuota)\n",
        "    print(list(resp_cuotes_open.loc[resp_cuotes_atzar[cuota] == 'Si', \"id\"]))\n",
        "\n",
        "    resp_cuotes_open.loc[resp_cuotes_atzar[cuota] == 'Si', 'Open'] = \"Si\"\n",
        "    resp_cuotes_atzar.loc[resp_cuotes_open[\"Open\"] == 'Si', col_mini] = \"No\"\n",
        "\n",
        "  # Cuotes en les que hi ha més de 6 persones\n",
        "  else:\n",
        "    n_cuota_si = 2\n",
        "\n",
        "    # Valencia\n",
        "    cuota_si = resp_cuotes_open.loc[resp_cuotes_atzar[cuota] == 'Si']\n",
        "    cuota_si_valencia = cuota_si.loc[cuota_si[\"Paisvalencia\"] == 'Si']\n",
        "\n",
        "    if len(cuota_si_valencia) >= pais_valencia:\n",
        "      cuota_si_valencia = cuota_si_valencia.sample(n=pais_valencia)\n",
        "    elif len(cuota_si_valencia) == 0:\n",
        "      n_cuota_si += 2\n",
        "    else:\n",
        "      n_cuota_si += 1\n",
        "    resp_cuotes_open.loc[resp_cuotes_open[\"id\"].isin(cuota_si_valencia[\"id\"]),'Open'] = \"Si\"\n",
        "    resp_cuotes_atzar.loc[resp_cuotes_open[\"Open\"] == 'Si', col_mini] = \"No\"\n",
        "\n",
        "    print(f\"Minicuota: {cuota}, Macrocuota: Païs valencià\")\n",
        "    print(list(cuota_si_valencia[\"id\"]))\n",
        "\n",
        "    # No mixte\n",
        "    cuota_si = resp_cuotes_open.loc[resp_cuotes_atzar[cuota] == 'Si']\n",
        "    cuota_si_nomixte = cuota_si.loc[cuota_si[\"Macrogenere\"] == 'Si']\n",
        "\n",
        "    if len(cuota_si_nomixte) >= nomixte:\n",
        "      cuota_si_nomixte = cuota_si_nomixte.sample(n=nomixte)\n",
        "    elif len(cuota_si_nomixte) == 0:\n",
        "      n_cuota_si += 2\n",
        "    else:\n",
        "      n_cuota_si += 1\n",
        "    resp_cuotes_open.loc[resp_cuotes_open[\"id\"].isin(cuota_si_nomixte[\"id\"]),'Open'] = \"Si\"\n",
        "    resp_cuotes_atzar.loc[resp_cuotes_open[\"Open\"] == 'Si', col_mini] = \"No\"\n",
        "\n",
        "    print(f\"Minicuota: {cuota}, Macrocuota: No mixte\")\n",
        "    print(list(cuota_si_nomixte[\"id\"]))\n",
        "\n",
        "    # Orga\n",
        "    cuota_si = resp_cuotes_open.loc[resp_cuotes_atzar[cuota] == 'Si']\n",
        "\n",
        "    cuota_si_orga = cuota_si[cuota_si[\"id\"].str.len() == 1 &\n",
        "                          cuota_si[\"id\"].isin(list(\"12345678\"))]\n",
        "    if len(cuota_si_orga) >= n_cuota_si:\n",
        "      cuota_si_orga = cuota_si_orga.sample(n=n_cuota_si)\n",
        "    n_cuota_si -= len(cuota_si_orga)\n",
        "    resp_cuotes_open.loc[resp_cuotes_open[\"id\"].isin(cuota_si_orga[\"id\"]),'Open'] = \"Si\"\n",
        "    resp_cuotes_atzar.loc[resp_cuotes_open[\"Open\"] == 'Si', col_mini] = \"No\"\n",
        "\n",
        "    print(f\"Minicuota: {cuota} orga\")\n",
        "    print(list(cuota_si_orga[\"id\"]))\n",
        "\n",
        "    # La resta\n",
        "    cuota_si_resta = resp_cuotes_open.loc[resp_cuotes_atzar[cuota] == 'Si']\n",
        "\n",
        "    if n_cuota_si>0:\n",
        "      if cuota!=\"Altres\":\n",
        "        if len(cuota_si_resta) >= n_cuota_si:\n",
        "          cuota_si_resta = cuota_si_resta.sample(n=n_cuota_si)\n",
        "      elif n_cuota_si>1:\n",
        "        cuota_si_resta = cuota_si_resta.sample(n=n_cuota_si-1)\n",
        "\n",
        "      resp_cuotes_open.loc[resp_cuotes_open[\"id\"].isin(cuota_si_resta[\"id\"]),'Open'] = \"Si\"\n",
        "      resp_cuotes_atzar.loc[resp_cuotes_open[\"Open\"] == 'Si', col_mini] = \"No\"\n",
        "      print(f\"Minicuota: {cuota} total\")\n",
        "      print(list(cuota_si_resta[\"id\"]))\n",
        "    else:\n",
        "      print([])\n",
        "\n",
        ""
      ]
    },
    {
      "cell_type": "code",
      "source": [
        "totalf = total - ((resp_cuotes_open[\"Open\"] == 'Si').sum())\n",
        "print(f\"Falten {totalf} persones per acabar les inscripcions\")"
      ],
      "metadata": {
        "colab": {
          "base_uri": "https://localhost:8080/"
        },
        "id": "lTf-4ChAdarL",
        "outputId": "c8704402-b53b-4314-d2a3-4c10e1ca10f3"
      },
      "execution_count": 95,
      "outputs": [
        {
          "output_type": "stream",
          "name": "stdout",
          "text": [
            "Falten 8 persones per acabar les inscripcions\n"
          ]
        }
      ]
    },
    {
      "cell_type": "markdown",
      "source": [
        "Calcular les places que faltin sense cuota"
      ],
      "metadata": {
        "id": "z4EMXS7J0rFx"
      }
    },
    {
      "cell_type": "code",
      "source": [
        "cuota_totis = resp_cuotes_open.loc[resp_cuotes_open[\"Open\"] == \"No\"]\n",
        "cuota_totis = cuota_totis.sample(n= totalf)\n",
        "resp_cuotes_open.loc[resp_cuotes_open[\"id\"].isin(cuota_totis[\"id\"]),'Open'] = \"Si\"\n",
        "resp_cuotes_atzar.loc[resp_cuotes_open[\"Open\"] == 'Si', col_mini] = \"No\"\n",
        "\n",
        "print(f\"Sense cuota\")\n",
        "print(list(cuota_totis[\"id\"]))"
      ],
      "metadata": {
        "colab": {
          "base_uri": "https://localhost:8080/"
        },
        "id": "1rm_sVpstRvB",
        "outputId": "fb203c87-22cf-471b-cfc9-41477b498881"
      },
      "execution_count": 96,
      "outputs": [
        {
          "output_type": "stream",
          "name": "stdout",
          "text": [
            "Sense cuota\n",
            "['JC', 'YB', 'X', 'NB', 'OD', 'FB', 'OA', 'MA']\n"
          ]
        }
      ]
    },
    {
      "cell_type": "markdown",
      "source": [
        "### Testejar si va bé"
      ],
      "metadata": {
        "id": "TDB7hob51Nxx"
      }
    },
    {
      "cell_type": "markdown",
      "source": [
        "Comprobar si hi ha algun nom repetit"
      ],
      "metadata": {
        "id": "g7VCgPe82Wkg"
      }
    },
    {
      "cell_type": "code",
      "source": [
        "repe = resp_cuotes_open.loc[resp_cuotes_open[\"Open\"] == \"Si\"]\n",
        "repetits = repe['id'][repe['id'].duplicated()].unique()\n",
        "print(repetits)"
      ],
      "metadata": {
        "colab": {
          "base_uri": "https://localhost:8080/"
        },
        "id": "5gMypelx1NIx",
        "outputId": "323bc2b1-f627-4710-aac3-fb3ab8b4f560"
      },
      "execution_count": 97,
      "outputs": [
        {
          "output_type": "stream",
          "name": "stdout",
          "text": [
            "[]\n"
          ]
        }
      ]
    }
  ],
  "metadata": {
    "colab": {
      "provenance": [],
      "authorship_tag": "ABX9TyNpQdZ09qIswAzmCbm69S3U",
      "include_colab_link": true
    },
    "kernelspec": {
      "display_name": "Python 3",
      "name": "python3"
    },
    "language_info": {
      "name": "python"
    }
  },
  "nbformat": 4,
  "nbformat_minor": 0
}